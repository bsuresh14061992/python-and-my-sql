{
 "cells": [
  {
   "cell_type": "code",
   "execution_count": 1,
   "id": "c4b54609",
   "metadata": {},
   "outputs": [
    {
     "name": "stdout",
     "output_type": "stream",
     "text": [
      "F:\\Pycharm projects\n"
     ]
    }
   ],
   "source": [
    " cd F:/Pycharm projects"
   ]
  },
  {
   "cell_type": "code",
   "execution_count": 3,
   "id": "d39841b0",
   "metadata": {},
   "outputs": [
    {
     "name": "stderr",
     "output_type": "stream",
     "text": [
      "\r",
      "tqdm() Progress Bar:   0%|                                                                       | 0/5 [00:00<?, ?it/s]"
     ]
    },
    {
     "name": "stdout",
     "output_type": "stream",
     "text": [
      "Directory 'Processing' created\n",
      "Directory 'queue' created\n",
      "Directory 'processed' created\n"
     ]
    },
    {
     "name": "stderr",
     "output_type": "stream",
     "text": [
      "tqdm() Progress Bar: 100%|███████████████████████████████████████████████████████████████| 5/5 [02:06<00:00, 25.21s/it]\n"
     ]
    }
   ],
   "source": [
    "import os\n",
    "import time\n",
    "from tqdm import tqdm\n",
    "import mysql.connector\n",
    "import shutil\n",
    "# Directory.\n",
    "directory = [\"Processing\",\"queue\",\"processed\"]\n",
    "   \n",
    "# Parent Directory path.\n",
    "parent_dir = \"F:/Pycharm projects/\"\n",
    "   \n",
    "# Path\n",
    "for i in directory:\n",
    "    path = os.path.join(parent_dir, i)\n",
    "    # Create the directory\n",
    "    os.mkdir(path)\n",
    "    print(\"Directory '% s' created\" % i)\n",
    "    \n",
    "#creating of a file in one directory for every second.\n",
    "def process():\n",
    "    save_path = 'F://Pycharm projects//processing//'\n",
    "    for i in range(5):\n",
    "        name_of_file = \"file\"+str(i)\n",
    "        completeName = os.path.join(save_path, name_of_file+\".txt\")         \n",
    "        f = open(completeName, \"w+\")\n",
    "        f.close()\n",
    "        \n",
    "# moving of a file from processing to queue if its is empty for every 5 seconds.\n",
    "\n",
    "def queue():\n",
    "    processing='F://Pycharm projects//processing//'\n",
    "    queue='F://Pycharm projects//queue//'\n",
    "    \n",
    "    allfiles = os.listdir(processing)\n",
    "    for f in allfiles:\n",
    "        shutil.move(processing + f, queue + f)\n",
    "        time.sleep(5)\n",
    "                    \n",
    "                    \n",
    "#file from queuue to processed files.\n",
    "def processed():\n",
    "    queue='F://Pycharm projects//queue//'\n",
    "    processed='F://Pycharm projects//processed//'\n",
    "    \n",
    "    allfiles = os.listdir(queue)\n",
    "    for f in allfiles:\n",
    "        shutil.move(queue + f, processed + f)\n",
    "        #time.sleep(5)\n",
    "        dataBase = mysql.connector.connect(\n",
    "            host =\"localhost\",\n",
    "            user =\"root\",\n",
    "            passwd =\"1423\",\n",
    "            database = \"bs14\")\n",
    "        # preparing a cursor object\n",
    "        cursorObject = dataBase.cursor()\n",
    "        \n",
    "        query = \"SELECT NAME, ROLL FROM STUDENT\"\n",
    "        cursorObject.execute(query)\n",
    "        myresult = cursorObject.fetchall()\n",
    "        for x in myresult:\n",
    "            for i in range(6):\n",
    "                \n",
    "                x=str(x)\n",
    "                file1 = open(\"F://Pycharm projects//processed//file\" + str(i)+\".txt\", \"w\")\n",
    "                file1.write(x)\n",
    "                # disconnecting from server\n",
    "                dataBase.close()\n",
    "        \n",
    "        \n",
    "#tqdm used a progress bar which shows how many files are progressed at a time.\n",
    "for i in tqdm(range(5), desc = 'tqdm() Progress Bar'):\n",
    "    process()\n",
    "    queue()\n",
    "    processed()"
   ]
  },
  {
   "cell_type": "code",
   "execution_count": null,
   "id": "dcaf1056",
   "metadata": {},
   "outputs": [],
   "source": []
  }
 ],
 "metadata": {
  "kernelspec": {
   "display_name": "Python 3",
   "language": "python",
   "name": "python3"
  },
  "language_info": {
   "codemirror_mode": {
    "name": "ipython",
    "version": 3
   },
   "file_extension": ".py",
   "mimetype": "text/x-python",
   "name": "python",
   "nbconvert_exporter": "python",
   "pygments_lexer": "ipython3",
   "version": "3.8.8"
  }
 },
 "nbformat": 4,
 "nbformat_minor": 5
}
